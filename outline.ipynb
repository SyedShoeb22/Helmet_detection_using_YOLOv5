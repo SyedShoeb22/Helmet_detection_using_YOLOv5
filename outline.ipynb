{
 "cells": [
  {
   "cell_type": "code",
   "execution_count": null,
   "metadata": {},
   "outputs": [],
   "source": [
    "!pip install opencv-python\n",
    "!pip install rembg"
   ]
  },
  {
   "cell_type": "code",
   "execution_count": 1,
   "metadata": {},
   "outputs": [],
   "source": [
    "import cv2\n",
    "import rembg\n",
    "\n",
    "image_path = \"D:\\CV intern\\images\\hard_hat_workers31.png\"\n",
    "# Read in the image and display it\n",
    "image = cv2.imread(image_path)\n",
    "#cv2.imshow(\"Input image\", image)\n",
    "gray = cv2.cvtColor(image, cv2.COLOR_BGR2GRAY)\n",
    "# Ask the user to draw a rectangle over an object in the image\n",
    "x, y, w, h = cv2.selectROI(\"Input image\", gray)\n",
    "cv2.waitKey(0)\n",
    "cv2.destroyAllWindows()\n",
    "\n"
   ]
  },
  {
   "cell_type": "code",
   "execution_count": 6,
   "metadata": {},
   "outputs": [],
   "source": [
    "# Crop the selected region of interest\n",
    "roi = gray[y:y+h, x:x+w]"
   ]
  },
  {
   "cell_type": "code",
   "execution_count": 7,
   "metadata": {},
   "outputs": [],
   "source": [
    "# Remove the background from the ROI using the Rembg library\n",
    "roi = rembg.remove(roi)\n",
    "cv2.imshow('some',roi)\n",
    "cv2.waitKey(0)\n",
    "cv2.destroyAllWindows()\n",
    "# Find the contours in the ROI\n"
   ]
  },
  {
   "cell_type": "code",
   "execution_count": 9,
   "metadata": {},
   "outputs": [],
   "source": [
    "canny = cv2.Canny(roi, 150, 255) # Applying canny egde detector to detect the edges of an image\n",
    "cv2.imshow('Binary image', canny)\n",
    "cv2.waitKey(0)\n",
    "cv2.destroyAllWindows()"
   ]
  },
  {
   "cell_type": "code",
   "execution_count": 18,
   "metadata": {},
   "outputs": [],
   "source": [
    "contours, hierarchy = cv2.findContours(canny, cv2.RETR_TREE, cv2.CHAIN_APPROX_NONE)\n",
    "\n",
    "# Draw an outline over the object\n",
    "img_highlighted = cv2.drawContours(roi, contours, -1, (0, 255, 0), 2, cv2.LINE_AA)\n",
    "cv2.imshow('None approximation', img_highlighted)\n",
    "cv2.waitKey(0)\n",
    "cv2.imwrite('contours_none_image1.jpg', img_highlighted)\n",
    "cv2.destroyAllWindows()\n",
    "img_highlighted_gray = cv2.cvtColor(img_highlighted, cv2.COLOR_BGR2GRAY)\n",
    "# Overlay the object outline on the original image\n",
    "gray[y:y+h, x:x+w] = img_highlighted_gray\n",
    "\n",
    "# Display the final image\n",
    "cv2.imshow(\"Output image\", gray)\n",
    "cv2.waitKey(0)\n",
    "cv2.destroyAllWindows()"
   ]
  }
 ],
 "metadata": {
  "kernelspec": {
   "display_name": "Python 3",
   "language": "python",
   "name": "python3"
  },
  "language_info": {
   "codemirror_mode": {
    "name": "ipython",
    "version": 3
   },
   "file_extension": ".py",
   "mimetype": "text/x-python",
   "name": "python",
   "nbconvert_exporter": "python",
   "pygments_lexer": "ipython3",
   "version": "3.9.7"
  },
  "orig_nbformat": 4,
  "vscode": {
   "interpreter": {
    "hash": "2469a70536e4d2335a2ea8907942d0699c37342a371ac185bdb5b0aa6f073890"
   }
  }
 },
 "nbformat": 4,
 "nbformat_minor": 2
}
